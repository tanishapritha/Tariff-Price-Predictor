{
 "cells": [
  {
   "cell_type": "code",
   "execution_count": 4,
   "id": "4baa5da6-0ec0-45be-bc80-20f9c428ebb3",
   "metadata": {},
   "outputs": [
    {
     "ename": "NameError",
     "evalue": "name 'df_tariff' is not defined",
     "output_type": "error",
     "traceback": [
      "\u001b[31m---------------------------------------------------------------------------\u001b[39m",
      "\u001b[31mNameError\u001b[39m                                 Traceback (most recent call last)",
      "\u001b[36mCell\u001b[39m\u001b[36m \u001b[39m\u001b[32mIn[4]\u001b[39m\u001b[32m, line 1\u001b[39m\n\u001b[32m----> \u001b[39m\u001b[32m1\u001b[39m \u001b[43mdf_tariff\u001b[49m[\u001b[33m'\u001b[39m\u001b[33mCountry Name\u001b[39m\u001b[33m'\u001b[39m].unique()\n\u001b[32m      2\u001b[39m df_gdp[\u001b[33m'\u001b[39m\u001b[33mCountry Name\u001b[39m\u001b[33m'\u001b[39m].unique()\n\u001b[32m      3\u001b[39m df_inflation[\u001b[33m'\u001b[39m\u001b[33mCountry Name\u001b[39m\u001b[33m'\u001b[39m].unique()\n",
      "\u001b[31mNameError\u001b[39m: name 'df_tariff' is not defined"
     ]
    }
   ],
   "source": []
  },
  {
   "cell_type": "code",
   "execution_count": null,
   "id": "94d9c8a2-4b5b-4f6b-978e-75408911c1e9",
   "metadata": {},
   "outputs": [],
   "source": []
  }
 ],
 "metadata": {
  "kernelspec": {
   "display_name": "Python 3 (ipykernel)",
   "language": "python",
   "name": "python3"
  },
  "language_info": {
   "codemirror_mode": {
    "name": "ipython",
    "version": 3
   },
   "file_extension": ".py",
   "mimetype": "text/x-python",
   "name": "python",
   "nbconvert_exporter": "python",
   "pygments_lexer": "ipython3",
   "version": "3.13.1"
  }
 },
 "nbformat": 4,
 "nbformat_minor": 5
}
