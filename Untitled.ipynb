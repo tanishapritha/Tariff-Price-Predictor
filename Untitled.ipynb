{
 "cells": [
  {
   "cell_type": "code",
   "execution_count": 1,
   "id": "fa1b3526-ed38-4103-bc09-315117cbc080",
   "metadata": {},
   "outputs": [],
   "source": [
    "import pandas as pd\n",
    "import requests\n",
    "\n",
    "# Load the dataset (CSV format) directly from OWID's link\n",
    "df = pd.read_csv(\n",
    "    \"https://ourworldindata.org/grapher/tariff-rate-applied-weighted-mean-all-products.csv?v=1&csvType=full&useColumnShortNames=false\",\n",
    "    storage_options={'User-Agent': 'Our World In Data data fetch/1.0'}\n",
    ")\n",
    "\n",
    "# Load the associated metadata (JSON format)\n",
    "metadata = requests.get(\n",
    "    \"https://ourworldindata.org/grapher/tariff-rate-applied-weighted-mean-all-products.metadata.json?v=1&csvType=full&useColumnShortNames=false\"\n",
    ").json()\n"
   ]
  },
  {
   "cell_type": "code",
   "execution_count": 2,
   "id": "32b26648-5341-42f6-a1a0-1da467346fd9",
   "metadata": {},
   "outputs": [
    {
     "data": {
      "text/html": [
       "<div>\n",
       "<style scoped>\n",
       "    .dataframe tbody tr th:only-of-type {\n",
       "        vertical-align: middle;\n",
       "    }\n",
       "\n",
       "    .dataframe tbody tr th {\n",
       "        vertical-align: top;\n",
       "    }\n",
       "\n",
       "    .dataframe thead th {\n",
       "        text-align: right;\n",
       "    }\n",
       "</style>\n",
       "<table border=\"1\" class=\"dataframe\">\n",
       "  <thead>\n",
       "    <tr style=\"text-align: right;\">\n",
       "      <th></th>\n",
       "      <th>Entity</th>\n",
       "      <th>Code</th>\n",
       "      <th>Year</th>\n",
       "      <th>Tariff rate, applied, weighted mean, all products (%)</th>\n",
       "    </tr>\n",
       "  </thead>\n",
       "  <tbody>\n",
       "    <tr>\n",
       "      <th>0</th>\n",
       "      <td>Afghanistan</td>\n",
       "      <td>AFG</td>\n",
       "      <td>2004</td>\n",
       "      <td>4.01</td>\n",
       "    </tr>\n",
       "    <tr>\n",
       "      <th>1</th>\n",
       "      <td>Afghanistan</td>\n",
       "      <td>AFG</td>\n",
       "      <td>2006</td>\n",
       "      <td>7.79</td>\n",
       "    </tr>\n",
       "    <tr>\n",
       "      <th>2</th>\n",
       "      <td>Afghanistan</td>\n",
       "      <td>AFG</td>\n",
       "      <td>2007</td>\n",
       "      <td>7.80</td>\n",
       "    </tr>\n",
       "    <tr>\n",
       "      <th>3</th>\n",
       "      <td>Afghanistan</td>\n",
       "      <td>AFG</td>\n",
       "      <td>2008</td>\n",
       "      <td>5.00</td>\n",
       "    </tr>\n",
       "    <tr>\n",
       "      <th>4</th>\n",
       "      <td>Afghanistan</td>\n",
       "      <td>AFG</td>\n",
       "      <td>2012</td>\n",
       "      <td>5.47</td>\n",
       "    </tr>\n",
       "  </tbody>\n",
       "</table>\n",
       "</div>"
      ],
      "text/plain": [
       "        Entity Code  Year  \\\n",
       "0  Afghanistan  AFG  2004   \n",
       "1  Afghanistan  AFG  2006   \n",
       "2  Afghanistan  AFG  2007   \n",
       "3  Afghanistan  AFG  2008   \n",
       "4  Afghanistan  AFG  2012   \n",
       "\n",
       "   Tariff rate, applied, weighted mean, all products (%)  \n",
       "0                                               4.01      \n",
       "1                                               7.79      \n",
       "2                                               7.80      \n",
       "3                                               5.00      \n",
       "4                                               5.47      "
      ]
     },
     "execution_count": 2,
     "metadata": {},
     "output_type": "execute_result"
    }
   ],
   "source": [
    "df.head()"
   ]
  },
  {
   "cell_type": "code",
   "execution_count": 3,
   "id": "874d433c-bd19-4b6e-b2f2-310219382d79",
   "metadata": {},
   "outputs": [
    {
     "data": {
      "text/plain": [
       "Index(['Entity', 'Code', 'Year',\n",
       "       'Tariff rate, applied, weighted mean, all products (%)'],\n",
       "      dtype='object')"
      ]
     },
     "execution_count": 3,
     "metadata": {},
     "output_type": "execute_result"
    }
   ],
   "source": [
    "df.columns"
   ]
  },
  {
   "cell_type": "code",
   "execution_count": 4,
   "id": "2df6ffd9-68e4-4482-95a8-844f450145c4",
   "metadata": {},
   "outputs": [],
   "source": [
    "df.to_csv(\"tariff_data.csv\", index=False)"
   ]
  },
  {
   "cell_type": "code",
   "execution_count": 20,
   "id": "fc3ddbb6-941e-4909-b218-20d4d45d2355",
   "metadata": {},
   "outputs": [
    {
     "name": "stdout",
     "output_type": "stream",
     "text": [
      "                  Country Name Country Code  \\\n",
      "0                        Aruba          ABW   \n",
      "1  Africa Eastern and Southern          AFE   \n",
      "2                  Afghanistan          AFG   \n",
      "3   Africa Western and Central          AFW   \n",
      "4                       Angola          AGO   \n",
      "\n",
      "                          Indicator Name  Indicator Code  1960  1961  1962  \\\n",
      "0  Inflation, consumer prices (annual %)  FP.CPI.TOTL.ZG   NaN   NaN   NaN   \n",
      "1  Inflation, consumer prices (annual %)  FP.CPI.TOTL.ZG   NaN   NaN   NaN   \n",
      "2  Inflation, consumer prices (annual %)  FP.CPI.TOTL.ZG   NaN   NaN   NaN   \n",
      "3  Inflation, consumer prices (annual %)  FP.CPI.TOTL.ZG   NaN   NaN   NaN   \n",
      "4  Inflation, consumer prices (annual %)  FP.CPI.TOTL.ZG   NaN   NaN   NaN   \n",
      "\n",
      "   1963  1964  1965  ...      2014      2015       2016       2017       2018  \\\n",
      "0   NaN   NaN   NaN  ...  0.421441  0.474764  -0.931196  -1.028282   3.626041   \n",
      "1   NaN   NaN   NaN  ...  5.370290  5.245878   6.571396   6.399343   4.720805   \n",
      "2   NaN   NaN   NaN  ...  4.673996 -0.661709   4.383892   4.975952   0.626149   \n",
      "3   NaN   NaN   NaN  ...  1.768436  2.130817   1.487416   1.725486   1.784050   \n",
      "4   NaN   NaN   NaN  ...  7.280387  9.355972  30.694415  29.844480  19.628938   \n",
      "\n",
      "        2019       2020       2021       2022       2023  \n",
      "0   4.257462        NaN        NaN        NaN        NaN  \n",
      "1   4.653665   5.405162   7.240978  10.773751   7.126975  \n",
      "2   2.302373        NaN        NaN        NaN        NaN  \n",
      "3   1.983092   2.490378   3.745700   7.949251   4.953050  \n",
      "4  17.080954  22.271539  25.754295  21.355290  13.644102  \n",
      "\n",
      "[5 rows x 68 columns]\n"
     ]
    }
   ],
   "source": [
    "import pandas as pd\n",
    "df = pd.read_csv('data/inflation.csv')\n",
    "print(df.head())\n"
   ]
  },
  {
   "cell_type": "code",
   "execution_count": 21,
   "id": "49d978dc-4476-40a6-bb7c-d74155a14e45",
   "metadata": {},
   "outputs": [
    {
     "name": "stdout",
     "output_type": "stream",
     "text": [
      "Country Name        0\n",
      "Country Code        0\n",
      "Indicator Name      0\n",
      "Indicator Code      0\n",
      "1960              196\n",
      "                 ... \n",
      "2019               38\n",
      "2020               44\n",
      "2021               44\n",
      "2022               45\n",
      "2023               55\n",
      "Length: 68, dtype: int64\n",
      "                  country_name country_code  \\\n",
      "0                        Aruba          ABW   \n",
      "1  Africa Eastern and Southern          AFE   \n",
      "2                  Afghanistan          AFG   \n",
      "3   Africa Western and Central          AFW   \n",
      "4                       Angola          AGO   \n",
      "\n",
      "                          indicator_name  indicator_code      1960      1961  \\\n",
      "0  Inflation, consumer prices (annual %)  FP.CPI.TOTL.ZG  1.945749  2.102977   \n",
      "1  Inflation, consumer prices (annual %)  FP.CPI.TOTL.ZG  1.945749  2.102977   \n",
      "2  Inflation, consumer prices (annual %)  FP.CPI.TOTL.ZG  1.945749  2.102977   \n",
      "3  Inflation, consumer prices (annual %)  FP.CPI.TOTL.ZG  1.945749  2.102977   \n",
      "4  Inflation, consumer prices (annual %)  FP.CPI.TOTL.ZG  1.945749  2.102977   \n",
      "\n",
      "       1962      1963      1964      1965  ...      2014      2015       2016  \\\n",
      "0  2.669962  2.898982  3.328408  3.410026  ...  0.421441  0.474764  -0.931196   \n",
      "1  2.669962  2.898982  3.328408  3.410026  ...  5.370290  5.245878   6.571396   \n",
      "2  2.669962  2.898982  3.328408  3.410026  ...  4.673996 -0.661709   4.383892   \n",
      "3  2.669962  2.898982  3.328408  3.410026  ...  1.768436  2.130817   1.487416   \n",
      "4  2.669962  2.898982  3.328408  3.410026  ...  7.280387  9.355972  30.694415   \n",
      "\n",
      "        2017       2018       2019       2020       2021       2022       2023  \n",
      "0  -1.028282   3.626041   4.257462   1.938631   3.672226   7.967574   5.869104  \n",
      "1   6.399343   4.720805   4.653665   5.405162   7.240978  10.773751   7.126975  \n",
      "2   4.975952   0.626149   2.302373   1.938631   3.672226   7.967574   5.869104  \n",
      "3   1.725486   1.784050   1.983092   2.490378   3.745700   7.949251   4.953050  \n",
      "4  29.844480  19.628938  17.080954  22.271539  25.754295  21.355290  13.644102  \n",
      "\n",
      "[5 rows x 68 columns]\n"
     ]
    }
   ],
   "source": [
    "# Checking for missing values\n",
    "print(df.isnull().sum())\n",
    "\n",
    "# Handling missing values by filling NaN with the median (for numerical columns)\n",
    "df = df.apply(lambda col: col.fillna(col.median()) if col.dtype in ['float64', 'int64'] else col, axis=0)\n",
    "\n",
    "# Standardizing column names (convert to lowercase and replace spaces with underscores)\n",
    "df.columns = df.columns.str.lower().str.replace(' ', '_')\n",
    "\n",
    "# Ensuring the 'Country Name' and 'Country Code' are of type string\n",
    "df['country_name'] = df['country_name'].astype(str)\n",
    "df['country_code'] = df['country_code'].astype(str)\n",
    "\n",
    "# Check the cleaned data\n",
    "print(df.head())\n"
   ]
  },
  {
   "cell_type": "code",
   "execution_count": 22,
   "id": "1034160a-ceca-46e7-8c7e-f01450741e8f",
   "metadata": {},
   "outputs": [
    {
     "name": "stdout",
     "output_type": "stream",
     "text": [
      "Missing values in each column:\n",
      " Country Name        0\n",
      "Country Code        0\n",
      "Indicator Name      0\n",
      "Indicator Code      0\n",
      "1960              196\n",
      "                 ... \n",
      "2019               38\n",
      "2020               44\n",
      "2021               44\n",
      "2022               45\n",
      "2023               55\n",
      "Length: 68, dtype: int64\n",
      "Cleaned Data:\n",
      "                   country_name country_code  \\\n",
      "0                        Aruba          ABW   \n",
      "1  Africa Eastern and Southern          AFE   \n",
      "2                  Afghanistan          AFG   \n",
      "3   Africa Western and Central          AFW   \n",
      "4                       Angola          AGO   \n",
      "\n",
      "                          indicator_name  indicator_code      1960      1961  \\\n",
      "0  Inflation, consumer prices (annual %)  FP.CPI.TOTL.ZG  1.945749  2.102977   \n",
      "1  Inflation, consumer prices (annual %)  FP.CPI.TOTL.ZG  1.945749  2.102977   \n",
      "2  Inflation, consumer prices (annual %)  FP.CPI.TOTL.ZG  1.945749  2.102977   \n",
      "3  Inflation, consumer prices (annual %)  FP.CPI.TOTL.ZG  1.945749  2.102977   \n",
      "4  Inflation, consumer prices (annual %)  FP.CPI.TOTL.ZG  1.945749  2.102977   \n",
      "\n",
      "       1962      1963      1964      1965  ...      2014      2015       2016  \\\n",
      "0  2.669962  2.898982  3.328408  3.410026  ...  0.421441  0.474764  -0.931196   \n",
      "1  2.669962  2.898982  3.328408  3.410026  ...  5.370290  5.245878   6.571396   \n",
      "2  2.669962  2.898982  3.328408  3.410026  ...  4.673996 -0.661709   4.383892   \n",
      "3  2.669962  2.898982  3.328408  3.410026  ...  1.768436  2.130817   1.487416   \n",
      "4  2.669962  2.898982  3.328408  3.410026  ...  7.280387  9.355972  30.694415   \n",
      "\n",
      "        2017       2018       2019       2020       2021       2022       2023  \n",
      "0  -1.028282   3.626041   4.257462   1.938631   3.672226   7.967574   5.869104  \n",
      "1   6.399343   4.720805   4.653665   5.405162   7.240978  10.773751   7.126975  \n",
      "2   4.975952   0.626149   2.302373   1.938631   3.672226   7.967574   5.869104  \n",
      "3   1.725486   1.784050   1.983092   2.490378   3.745700   7.949251   4.953050  \n",
      "4  29.844480  19.628938  17.080954  22.271539  25.754295  21.355290  13.644102  \n",
      "\n",
      "[5 rows x 68 columns]\n"
     ]
    }
   ],
   "source": [
    "import pandas as pd\n",
    "\n",
    "# Load the data\n",
    "df = pd.read_csv('data/inflation.csv')\n",
    "\n",
    "# Checking for missing values\n",
    "print(\"Missing values in each column:\\n\", df.isnull().sum())\n",
    "\n",
    "# Handling missing values by filling NaN with the median (for numerical columns)\n",
    "df = df.apply(lambda col: col.fillna(col.median()) if col.dtype in ['float64', 'int64'] else col, axis=0)\n",
    "\n",
    "# Standardizing column names (convert to lowercase and replace spaces with underscores)\n",
    "df.columns = df.columns.str.lower().str.replace(' ', '_')\n",
    "\n",
    "# Ensuring the 'Country Name' and 'Country Code' are of type string\n",
    "df['country_name'] = df['country_name'].astype(str)\n",
    "df['country_code'] = df['country_code'].astype(str)\n",
    "\n",
    "# Check the cleaned data\n",
    "print(\"Cleaned Data:\\n\", df.head())\n"
   ]
  },
  {
   "cell_type": "code",
   "execution_count": 23,
   "id": "0abfb043-ca78-4372-a061-c76bea5898b3",
   "metadata": {},
   "outputs": [
    {
     "name": "stdout",
     "output_type": "stream",
     "text": [
      "Summary Statistics:\n",
      "              1960        1961        1962        1963        1964        1965  \\\n",
      "count  266.000000  266.000000  266.000000  266.000000  266.000000  266.000000   \n",
      "mean     2.369231    2.478760    3.215454    3.718999    4.200218    4.956349   \n",
      "std      3.539584    2.413982    8.031397    9.099307    7.579479   19.035086   \n",
      "min     -5.030042   -3.900000   -3.846154   -2.694655   -4.535654   -3.878976   \n",
      "25%      1.945749    2.102977    2.669962    2.898982    3.328408    3.410026   \n",
      "50%      1.945749    2.102977    2.669962    2.898982    3.328408    3.410026   \n",
      "75%      1.945749    2.102977    2.669962    2.898982    3.328408    3.410026   \n",
      "max     39.590444   22.747264  131.397850  145.910781  108.994709  306.763110   \n",
      "\n",
      "              1966        1967        1968        1969  ...        2014  \\\n",
      "count   266.000000  266.000000  266.000000  266.000000  ...  266.000000   \n",
      "mean      8.692952    3.939910    4.251370    3.771968  ...    3.527522   \n",
      "std      69.573729    8.730466   11.361774    2.606606  ...    5.282486   \n",
      "min      -1.361868   -8.422486  -10.033895   -4.339051  ...   -1.509245   \n",
      "25%       3.815659    3.016948    3.005366    3.367003  ...    1.089442   \n",
      "50%       3.815659    3.016948    3.005366    3.367003  ...    2.559749   \n",
      "75%       3.815659    3.016948    3.005366    3.367003  ...    4.402253   \n",
      "max    1136.254112  106.000000  128.843042   21.763295  ...   62.168650   \n",
      "\n",
      "             2015        2016        2017        2018        2019        2020  \\\n",
      "count  266.000000  266.000000  266.000000  266.000000  266.000000  266.000000   \n",
      "mean     3.489250    5.671738    4.482344    3.824133    4.393885    5.944454   \n",
      "std      9.311291   28.376910   12.194723    6.965653   17.024466   35.974543   \n",
      "min     -3.749145   -3.078218   -1.537100   -2.814698   -3.233389   -2.595243   \n",
      "25%      0.457711    0.573948    1.586026    1.789017    1.437925    0.726897   \n",
      "50%      1.681312    1.712596    2.450534    2.527344    2.239800    1.938631   \n",
      "75%      3.844243    3.759097    4.314288    3.610640    2.895228    3.362538   \n",
      "max    121.738085  379.999586  187.851630   83.501529  255.304991  557.201817   \n",
      "\n",
      "             2021        2022        2023  \n",
      "count  266.000000  266.000000  266.000000  \n",
      "mean     6.855281   10.905473    8.303039  \n",
      "std     24.830486   15.840209   15.156594  \n",
      "min     -0.772844   -6.687321   -1.035301  \n",
      "25%      2.477297    6.291672    4.323050  \n",
      "50%      3.672226    7.967574    5.869104  \n",
      "75%      4.694280    9.639314    7.350834  \n",
      "max    359.093041  171.205491  221.341644  \n",
      "\n",
      "[8 rows x 64 columns]\n"
     ]
    },
    {
     "ename": "TypeError",
     "evalue": "agg function failed [how->mean,dtype->object]",
     "output_type": "error",
     "traceback": [
      "\u001b[31m---------------------------------------------------------------------------\u001b[39m",
      "\u001b[31mTypeError\u001b[39m                                 Traceback (most recent call last)",
      "\u001b[36mFile \u001b[39m\u001b[32m~\\AppData\\Roaming\\Python\\Python313\\site-packages\\pandas\\core\\groupby\\groupby.py:1942\u001b[39m, in \u001b[36mGroupBy._agg_py_fallback\u001b[39m\u001b[34m(self, how, values, ndim, alt)\u001b[39m\n\u001b[32m   1941\u001b[39m \u001b[38;5;28;01mtry\u001b[39;00m:\n\u001b[32m-> \u001b[39m\u001b[32m1942\u001b[39m     res_values = \u001b[38;5;28;43mself\u001b[39;49m\u001b[43m.\u001b[49m\u001b[43m_grouper\u001b[49m\u001b[43m.\u001b[49m\u001b[43magg_series\u001b[49m\u001b[43m(\u001b[49m\u001b[43mser\u001b[49m\u001b[43m,\u001b[49m\u001b[43m \u001b[49m\u001b[43malt\u001b[49m\u001b[43m,\u001b[49m\u001b[43m \u001b[49m\u001b[43mpreserve_dtype\u001b[49m\u001b[43m=\u001b[49m\u001b[38;5;28;43;01mTrue\u001b[39;49;00m\u001b[43m)\u001b[49m\n\u001b[32m   1943\u001b[39m \u001b[38;5;28;01mexcept\u001b[39;00m \u001b[38;5;167;01mException\u001b[39;00m \u001b[38;5;28;01mas\u001b[39;00m err:\n",
      "\u001b[36mFile \u001b[39m\u001b[32m~\\AppData\\Roaming\\Python\\Python313\\site-packages\\pandas\\core\\groupby\\ops.py:864\u001b[39m, in \u001b[36mBaseGrouper.agg_series\u001b[39m\u001b[34m(self, obj, func, preserve_dtype)\u001b[39m\n\u001b[32m    862\u001b[39m     preserve_dtype = \u001b[38;5;28;01mTrue\u001b[39;00m\n\u001b[32m--> \u001b[39m\u001b[32m864\u001b[39m result = \u001b[38;5;28;43mself\u001b[39;49m\u001b[43m.\u001b[49m\u001b[43m_aggregate_series_pure_python\u001b[49m\u001b[43m(\u001b[49m\u001b[43mobj\u001b[49m\u001b[43m,\u001b[49m\u001b[43m \u001b[49m\u001b[43mfunc\u001b[49m\u001b[43m)\u001b[49m\n\u001b[32m    866\u001b[39m npvalues = lib.maybe_convert_objects(result, try_float=\u001b[38;5;28;01mFalse\u001b[39;00m)\n",
      "\u001b[36mFile \u001b[39m\u001b[32m~\\AppData\\Roaming\\Python\\Python313\\site-packages\\pandas\\core\\groupby\\ops.py:885\u001b[39m, in \u001b[36mBaseGrouper._aggregate_series_pure_python\u001b[39m\u001b[34m(self, obj, func)\u001b[39m\n\u001b[32m    884\u001b[39m \u001b[38;5;28;01mfor\u001b[39;00m i, group \u001b[38;5;129;01min\u001b[39;00m \u001b[38;5;28menumerate\u001b[39m(splitter):\n\u001b[32m--> \u001b[39m\u001b[32m885\u001b[39m     res = \u001b[43mfunc\u001b[49m\u001b[43m(\u001b[49m\u001b[43mgroup\u001b[49m\u001b[43m)\u001b[49m\n\u001b[32m    886\u001b[39m     res = extract_result(res)\n",
      "\u001b[36mFile \u001b[39m\u001b[32m~\\AppData\\Roaming\\Python\\Python313\\site-packages\\pandas\\core\\groupby\\groupby.py:2454\u001b[39m, in \u001b[36mGroupBy.mean.<locals>.<lambda>\u001b[39m\u001b[34m(x)\u001b[39m\n\u001b[32m   2451\u001b[39m \u001b[38;5;28;01melse\u001b[39;00m:\n\u001b[32m   2452\u001b[39m     result = \u001b[38;5;28mself\u001b[39m._cython_agg_general(\n\u001b[32m   2453\u001b[39m         \u001b[33m\"\u001b[39m\u001b[33mmean\u001b[39m\u001b[33m\"\u001b[39m,\n\u001b[32m-> \u001b[39m\u001b[32m2454\u001b[39m         alt=\u001b[38;5;28;01mlambda\u001b[39;00m x: \u001b[43mSeries\u001b[49m\u001b[43m(\u001b[49m\u001b[43mx\u001b[49m\u001b[43m,\u001b[49m\u001b[43m \u001b[49m\u001b[43mcopy\u001b[49m\u001b[43m=\u001b[49m\u001b[38;5;28;43;01mFalse\u001b[39;49;00m\u001b[43m)\u001b[49m\u001b[43m.\u001b[49m\u001b[43mmean\u001b[49m\u001b[43m(\u001b[49m\u001b[43mnumeric_only\u001b[49m\u001b[43m=\u001b[49m\u001b[43mnumeric_only\u001b[49m\u001b[43m)\u001b[49m,\n\u001b[32m   2455\u001b[39m         numeric_only=numeric_only,\n\u001b[32m   2456\u001b[39m     )\n\u001b[32m   2457\u001b[39m     \u001b[38;5;28;01mreturn\u001b[39;00m result.__finalize__(\u001b[38;5;28mself\u001b[39m.obj, method=\u001b[33m\"\u001b[39m\u001b[33mgroupby\u001b[39m\u001b[33m\"\u001b[39m)\n",
      "\u001b[36mFile \u001b[39m\u001b[32m~\\AppData\\Roaming\\Python\\Python313\\site-packages\\pandas\\core\\series.py:6549\u001b[39m, in \u001b[36mSeries.mean\u001b[39m\u001b[34m(self, axis, skipna, numeric_only, **kwargs)\u001b[39m\n\u001b[32m   6541\u001b[39m \u001b[38;5;129m@doc\u001b[39m(make_doc(\u001b[33m\"\u001b[39m\u001b[33mmean\u001b[39m\u001b[33m\"\u001b[39m, ndim=\u001b[32m1\u001b[39m))\n\u001b[32m   6542\u001b[39m \u001b[38;5;28;01mdef\u001b[39;00m\u001b[38;5;250m \u001b[39m\u001b[34mmean\u001b[39m(\n\u001b[32m   6543\u001b[39m     \u001b[38;5;28mself\u001b[39m,\n\u001b[32m   (...)\u001b[39m\u001b[32m   6547\u001b[39m     **kwargs,\n\u001b[32m   6548\u001b[39m ):\n\u001b[32m-> \u001b[39m\u001b[32m6549\u001b[39m     \u001b[38;5;28;01mreturn\u001b[39;00m \u001b[43mNDFrame\u001b[49m\u001b[43m.\u001b[49m\u001b[43mmean\u001b[49m\u001b[43m(\u001b[49m\u001b[38;5;28;43mself\u001b[39;49m\u001b[43m,\u001b[49m\u001b[43m \u001b[49m\u001b[43maxis\u001b[49m\u001b[43m,\u001b[49m\u001b[43m \u001b[49m\u001b[43mskipna\u001b[49m\u001b[43m,\u001b[49m\u001b[43m \u001b[49m\u001b[43mnumeric_only\u001b[49m\u001b[43m,\u001b[49m\u001b[43m \u001b[49m\u001b[43m*\u001b[49m\u001b[43m*\u001b[49m\u001b[43mkwargs\u001b[49m\u001b[43m)\u001b[49m\n",
      "\u001b[36mFile \u001b[39m\u001b[32m~\\AppData\\Roaming\\Python\\Python313\\site-packages\\pandas\\core\\generic.py:12420\u001b[39m, in \u001b[36mNDFrame.mean\u001b[39m\u001b[34m(self, axis, skipna, numeric_only, **kwargs)\u001b[39m\n\u001b[32m  12413\u001b[39m \u001b[38;5;28;01mdef\u001b[39;00m\u001b[38;5;250m \u001b[39m\u001b[34mmean\u001b[39m(\n\u001b[32m  12414\u001b[39m     \u001b[38;5;28mself\u001b[39m,\n\u001b[32m  12415\u001b[39m     axis: Axis | \u001b[38;5;28;01mNone\u001b[39;00m = \u001b[32m0\u001b[39m,\n\u001b[32m   (...)\u001b[39m\u001b[32m  12418\u001b[39m     **kwargs,\n\u001b[32m  12419\u001b[39m ) -> Series | \u001b[38;5;28mfloat\u001b[39m:\n\u001b[32m> \u001b[39m\u001b[32m12420\u001b[39m     \u001b[38;5;28;01mreturn\u001b[39;00m \u001b[38;5;28;43mself\u001b[39;49m\u001b[43m.\u001b[49m\u001b[43m_stat_function\u001b[49m\u001b[43m(\u001b[49m\n\u001b[32m  12421\u001b[39m \u001b[43m        \u001b[49m\u001b[33;43m\"\u001b[39;49m\u001b[33;43mmean\u001b[39;49m\u001b[33;43m\"\u001b[39;49m\u001b[43m,\u001b[49m\u001b[43m \u001b[49m\u001b[43mnanops\u001b[49m\u001b[43m.\u001b[49m\u001b[43mnanmean\u001b[49m\u001b[43m,\u001b[49m\u001b[43m \u001b[49m\u001b[43maxis\u001b[49m\u001b[43m,\u001b[49m\u001b[43m \u001b[49m\u001b[43mskipna\u001b[49m\u001b[43m,\u001b[49m\u001b[43m \u001b[49m\u001b[43mnumeric_only\u001b[49m\u001b[43m,\u001b[49m\u001b[43m \u001b[49m\u001b[43m*\u001b[49m\u001b[43m*\u001b[49m\u001b[43mkwargs\u001b[49m\n\u001b[32m  12422\u001b[39m \u001b[43m    \u001b[49m\u001b[43m)\u001b[49m\n",
      "\u001b[36mFile \u001b[39m\u001b[32m~\\AppData\\Roaming\\Python\\Python313\\site-packages\\pandas\\core\\generic.py:12377\u001b[39m, in \u001b[36mNDFrame._stat_function\u001b[39m\u001b[34m(self, name, func, axis, skipna, numeric_only, **kwargs)\u001b[39m\n\u001b[32m  12375\u001b[39m validate_bool_kwarg(skipna, \u001b[33m\"\u001b[39m\u001b[33mskipna\u001b[39m\u001b[33m\"\u001b[39m, none_allowed=\u001b[38;5;28;01mFalse\u001b[39;00m)\n\u001b[32m> \u001b[39m\u001b[32m12377\u001b[39m \u001b[38;5;28;01mreturn\u001b[39;00m \u001b[38;5;28;43mself\u001b[39;49m\u001b[43m.\u001b[49m\u001b[43m_reduce\u001b[49m\u001b[43m(\u001b[49m\n\u001b[32m  12378\u001b[39m \u001b[43m    \u001b[49m\u001b[43mfunc\u001b[49m\u001b[43m,\u001b[49m\u001b[43m \u001b[49m\u001b[43mname\u001b[49m\u001b[43m=\u001b[49m\u001b[43mname\u001b[49m\u001b[43m,\u001b[49m\u001b[43m \u001b[49m\u001b[43maxis\u001b[49m\u001b[43m=\u001b[49m\u001b[43maxis\u001b[49m\u001b[43m,\u001b[49m\u001b[43m \u001b[49m\u001b[43mskipna\u001b[49m\u001b[43m=\u001b[49m\u001b[43mskipna\u001b[49m\u001b[43m,\u001b[49m\u001b[43m \u001b[49m\u001b[43mnumeric_only\u001b[49m\u001b[43m=\u001b[49m\u001b[43mnumeric_only\u001b[49m\n\u001b[32m  12379\u001b[39m \u001b[43m\u001b[49m\u001b[43m)\u001b[49m\n",
      "\u001b[36mFile \u001b[39m\u001b[32m~\\AppData\\Roaming\\Python\\Python313\\site-packages\\pandas\\core\\series.py:6457\u001b[39m, in \u001b[36mSeries._reduce\u001b[39m\u001b[34m(self, op, name, axis, skipna, numeric_only, filter_type, **kwds)\u001b[39m\n\u001b[32m   6453\u001b[39m     \u001b[38;5;28;01mraise\u001b[39;00m \u001b[38;5;167;01mTypeError\u001b[39;00m(\n\u001b[32m   6454\u001b[39m         \u001b[33mf\u001b[39m\u001b[33m\"\u001b[39m\u001b[33mSeries.\u001b[39m\u001b[38;5;132;01m{\u001b[39;00mname\u001b[38;5;132;01m}\u001b[39;00m\u001b[33m does not allow \u001b[39m\u001b[38;5;132;01m{\u001b[39;00mkwd_name\u001b[38;5;132;01m}\u001b[39;00m\u001b[33m=\u001b[39m\u001b[38;5;132;01m{\u001b[39;00mnumeric_only\u001b[38;5;132;01m}\u001b[39;00m\u001b[33m \u001b[39m\u001b[33m\"\u001b[39m\n\u001b[32m   6455\u001b[39m         \u001b[33m\"\u001b[39m\u001b[33mwith non-numeric dtypes.\u001b[39m\u001b[33m\"\u001b[39m\n\u001b[32m   6456\u001b[39m     )\n\u001b[32m-> \u001b[39m\u001b[32m6457\u001b[39m \u001b[38;5;28;01mreturn\u001b[39;00m \u001b[43mop\u001b[49m\u001b[43m(\u001b[49m\u001b[43mdelegate\u001b[49m\u001b[43m,\u001b[49m\u001b[43m \u001b[49m\u001b[43mskipna\u001b[49m\u001b[43m=\u001b[49m\u001b[43mskipna\u001b[49m\u001b[43m,\u001b[49m\u001b[43m \u001b[49m\u001b[43m*\u001b[49m\u001b[43m*\u001b[49m\u001b[43mkwds\u001b[49m\u001b[43m)\u001b[49m\n",
      "\u001b[36mFile \u001b[39m\u001b[32m~\\AppData\\Roaming\\Python\\Python313\\site-packages\\pandas\\core\\nanops.py:147\u001b[39m, in \u001b[36mbottleneck_switch.__call__.<locals>.f\u001b[39m\u001b[34m(values, axis, skipna, **kwds)\u001b[39m\n\u001b[32m    146\u001b[39m \u001b[38;5;28;01melse\u001b[39;00m:\n\u001b[32m--> \u001b[39m\u001b[32m147\u001b[39m     result = \u001b[43malt\u001b[49m\u001b[43m(\u001b[49m\u001b[43mvalues\u001b[49m\u001b[43m,\u001b[49m\u001b[43m \u001b[49m\u001b[43maxis\u001b[49m\u001b[43m=\u001b[49m\u001b[43maxis\u001b[49m\u001b[43m,\u001b[49m\u001b[43m \u001b[49m\u001b[43mskipna\u001b[49m\u001b[43m=\u001b[49m\u001b[43mskipna\u001b[49m\u001b[43m,\u001b[49m\u001b[43m \u001b[49m\u001b[43m*\u001b[49m\u001b[43m*\u001b[49m\u001b[43mkwds\u001b[49m\u001b[43m)\u001b[49m\n\u001b[32m    149\u001b[39m \u001b[38;5;28;01mreturn\u001b[39;00m result\n",
      "\u001b[36mFile \u001b[39m\u001b[32m~\\AppData\\Roaming\\Python\\Python313\\site-packages\\pandas\\core\\nanops.py:404\u001b[39m, in \u001b[36m_datetimelike_compat.<locals>.new_func\u001b[39m\u001b[34m(values, axis, skipna, mask, **kwargs)\u001b[39m\n\u001b[32m    402\u001b[39m     mask = isna(values)\n\u001b[32m--> \u001b[39m\u001b[32m404\u001b[39m result = \u001b[43mfunc\u001b[49m\u001b[43m(\u001b[49m\u001b[43mvalues\u001b[49m\u001b[43m,\u001b[49m\u001b[43m \u001b[49m\u001b[43maxis\u001b[49m\u001b[43m=\u001b[49m\u001b[43maxis\u001b[49m\u001b[43m,\u001b[49m\u001b[43m \u001b[49m\u001b[43mskipna\u001b[49m\u001b[43m=\u001b[49m\u001b[43mskipna\u001b[49m\u001b[43m,\u001b[49m\u001b[43m \u001b[49m\u001b[43mmask\u001b[49m\u001b[43m=\u001b[49m\u001b[43mmask\u001b[49m\u001b[43m,\u001b[49m\u001b[43m \u001b[49m\u001b[43m*\u001b[49m\u001b[43m*\u001b[49m\u001b[43mkwargs\u001b[49m\u001b[43m)\u001b[49m\n\u001b[32m    406\u001b[39m \u001b[38;5;28;01mif\u001b[39;00m datetimelike:\n",
      "\u001b[36mFile \u001b[39m\u001b[32m~\\AppData\\Roaming\\Python\\Python313\\site-packages\\pandas\\core\\nanops.py:720\u001b[39m, in \u001b[36mnanmean\u001b[39m\u001b[34m(values, axis, skipna, mask)\u001b[39m\n\u001b[32m    719\u001b[39m the_sum = values.sum(axis, dtype=dtype_sum)\n\u001b[32m--> \u001b[39m\u001b[32m720\u001b[39m the_sum = \u001b[43m_ensure_numeric\u001b[49m\u001b[43m(\u001b[49m\u001b[43mthe_sum\u001b[49m\u001b[43m)\u001b[49m\n\u001b[32m    722\u001b[39m \u001b[38;5;28;01mif\u001b[39;00m axis \u001b[38;5;129;01mis\u001b[39;00m \u001b[38;5;129;01mnot\u001b[39;00m \u001b[38;5;28;01mNone\u001b[39;00m \u001b[38;5;129;01mand\u001b[39;00m \u001b[38;5;28mgetattr\u001b[39m(the_sum, \u001b[33m\"\u001b[39m\u001b[33mndim\u001b[39m\u001b[33m\"\u001b[39m, \u001b[38;5;28;01mFalse\u001b[39;00m):\n",
      "\u001b[36mFile \u001b[39m\u001b[32m~\\AppData\\Roaming\\Python\\Python313\\site-packages\\pandas\\core\\nanops.py:1701\u001b[39m, in \u001b[36m_ensure_numeric\u001b[39m\u001b[34m(x)\u001b[39m\n\u001b[32m   1699\u001b[39m \u001b[38;5;28;01mif\u001b[39;00m \u001b[38;5;28misinstance\u001b[39m(x, \u001b[38;5;28mstr\u001b[39m):\n\u001b[32m   1700\u001b[39m     \u001b[38;5;66;03m# GH#44008, GH#36703 avoid casting e.g. strings to numeric\u001b[39;00m\n\u001b[32m-> \u001b[39m\u001b[32m1701\u001b[39m     \u001b[38;5;28;01mraise\u001b[39;00m \u001b[38;5;167;01mTypeError\u001b[39;00m(\u001b[33mf\u001b[39m\u001b[33m\"\u001b[39m\u001b[33mCould not convert string \u001b[39m\u001b[33m'\u001b[39m\u001b[38;5;132;01m{\u001b[39;00mx\u001b[38;5;132;01m}\u001b[39;00m\u001b[33m'\u001b[39m\u001b[33m to numeric\u001b[39m\u001b[33m\"\u001b[39m)\n\u001b[32m   1702\u001b[39m \u001b[38;5;28;01mtry\u001b[39;00m:\n",
      "\u001b[31mTypeError\u001b[39m: Could not convert string 'AFG' to numeric",
      "\nThe above exception was the direct cause of the following exception:\n",
      "\u001b[31mTypeError\u001b[39m                                 Traceback (most recent call last)",
      "\u001b[36mCell\u001b[39m\u001b[36m \u001b[39m\u001b[32mIn[23]\u001b[39m\u001b[32m, line 5\u001b[39m\n\u001b[32m      2\u001b[39m \u001b[38;5;28mprint\u001b[39m(\u001b[33m\"\u001b[39m\u001b[33mSummary Statistics:\u001b[39m\u001b[38;5;130;01m\\n\u001b[39;00m\u001b[33m\"\u001b[39m, df.describe())\n\u001b[32m      4\u001b[39m \u001b[38;5;66;03m# If we want to group by 'Country Name' and calculate the mean inflation rates for each country over all years:\u001b[39;00m\n\u001b[32m----> \u001b[39m\u001b[32m5\u001b[39m country_inflation_mean = \u001b[43mdf\u001b[49m\u001b[43m.\u001b[49m\u001b[43mgroupby\u001b[49m\u001b[43m(\u001b[49m\u001b[33;43m'\u001b[39;49m\u001b[33;43mcountry_name\u001b[39;49m\u001b[33;43m'\u001b[39;49m\u001b[43m)\u001b[49m\u001b[43m.\u001b[49m\u001b[43mmean\u001b[49m\u001b[43m(\u001b[49m\u001b[43m)\u001b[49m\n\u001b[32m      7\u001b[39m \u001b[38;5;28mprint\u001b[39m(\u001b[33m\"\u001b[39m\u001b[33mAverage Inflation by Country:\u001b[39m\u001b[38;5;130;01m\\n\u001b[39;00m\u001b[33m\"\u001b[39m, country_inflation_mean.head())\n\u001b[32m      9\u001b[39m \u001b[38;5;66;03m# Extracting inflation rates for a specific year (e.g., 2020)\u001b[39;00m\n",
      "\u001b[36mFile \u001b[39m\u001b[32m~\\AppData\\Roaming\\Python\\Python313\\site-packages\\pandas\\core\\groupby\\groupby.py:2452\u001b[39m, in \u001b[36mGroupBy.mean\u001b[39m\u001b[34m(self, numeric_only, engine, engine_kwargs)\u001b[39m\n\u001b[32m   2445\u001b[39m     \u001b[38;5;28;01mreturn\u001b[39;00m \u001b[38;5;28mself\u001b[39m._numba_agg_general(\n\u001b[32m   2446\u001b[39m         grouped_mean,\n\u001b[32m   2447\u001b[39m         executor.float_dtype_mapping,\n\u001b[32m   2448\u001b[39m         engine_kwargs,\n\u001b[32m   2449\u001b[39m         min_periods=\u001b[32m0\u001b[39m,\n\u001b[32m   2450\u001b[39m     )\n\u001b[32m   2451\u001b[39m \u001b[38;5;28;01melse\u001b[39;00m:\n\u001b[32m-> \u001b[39m\u001b[32m2452\u001b[39m     result = \u001b[38;5;28;43mself\u001b[39;49m\u001b[43m.\u001b[49m\u001b[43m_cython_agg_general\u001b[49m\u001b[43m(\u001b[49m\n\u001b[32m   2453\u001b[39m \u001b[43m        \u001b[49m\u001b[33;43m\"\u001b[39;49m\u001b[33;43mmean\u001b[39;49m\u001b[33;43m\"\u001b[39;49m\u001b[43m,\u001b[49m\n\u001b[32m   2454\u001b[39m \u001b[43m        \u001b[49m\u001b[43malt\u001b[49m\u001b[43m=\u001b[49m\u001b[38;5;28;43;01mlambda\u001b[39;49;00m\u001b[43m \u001b[49m\u001b[43mx\u001b[49m\u001b[43m:\u001b[49m\u001b[43m \u001b[49m\u001b[43mSeries\u001b[49m\u001b[43m(\u001b[49m\u001b[43mx\u001b[49m\u001b[43m,\u001b[49m\u001b[43m \u001b[49m\u001b[43mcopy\u001b[49m\u001b[43m=\u001b[49m\u001b[38;5;28;43;01mFalse\u001b[39;49;00m\u001b[43m)\u001b[49m\u001b[43m.\u001b[49m\u001b[43mmean\u001b[49m\u001b[43m(\u001b[49m\u001b[43mnumeric_only\u001b[49m\u001b[43m=\u001b[49m\u001b[43mnumeric_only\u001b[49m\u001b[43m)\u001b[49m\u001b[43m,\u001b[49m\n\u001b[32m   2455\u001b[39m \u001b[43m        \u001b[49m\u001b[43mnumeric_only\u001b[49m\u001b[43m=\u001b[49m\u001b[43mnumeric_only\u001b[49m\u001b[43m,\u001b[49m\n\u001b[32m   2456\u001b[39m \u001b[43m    \u001b[49m\u001b[43m)\u001b[49m\n\u001b[32m   2457\u001b[39m     \u001b[38;5;28;01mreturn\u001b[39;00m result.__finalize__(\u001b[38;5;28mself\u001b[39m.obj, method=\u001b[33m\"\u001b[39m\u001b[33mgroupby\u001b[39m\u001b[33m\"\u001b[39m)\n",
      "\u001b[36mFile \u001b[39m\u001b[32m~\\AppData\\Roaming\\Python\\Python313\\site-packages\\pandas\\core\\groupby\\groupby.py:1998\u001b[39m, in \u001b[36mGroupBy._cython_agg_general\u001b[39m\u001b[34m(self, how, alt, numeric_only, min_count, **kwargs)\u001b[39m\n\u001b[32m   1995\u001b[39m     result = \u001b[38;5;28mself\u001b[39m._agg_py_fallback(how, values, ndim=data.ndim, alt=alt)\n\u001b[32m   1996\u001b[39m     \u001b[38;5;28;01mreturn\u001b[39;00m result\n\u001b[32m-> \u001b[39m\u001b[32m1998\u001b[39m new_mgr = \u001b[43mdata\u001b[49m\u001b[43m.\u001b[49m\u001b[43mgrouped_reduce\u001b[49m\u001b[43m(\u001b[49m\u001b[43marray_func\u001b[49m\u001b[43m)\u001b[49m\n\u001b[32m   1999\u001b[39m res = \u001b[38;5;28mself\u001b[39m._wrap_agged_manager(new_mgr)\n\u001b[32m   2000\u001b[39m \u001b[38;5;28;01mif\u001b[39;00m how \u001b[38;5;129;01min\u001b[39;00m [\u001b[33m\"\u001b[39m\u001b[33midxmin\u001b[39m\u001b[33m\"\u001b[39m, \u001b[33m\"\u001b[39m\u001b[33midxmax\u001b[39m\u001b[33m\"\u001b[39m]:\n",
      "\u001b[36mFile \u001b[39m\u001b[32m~\\AppData\\Roaming\\Python\\Python313\\site-packages\\pandas\\core\\internals\\managers.py:1469\u001b[39m, in \u001b[36mBlockManager.grouped_reduce\u001b[39m\u001b[34m(self, func)\u001b[39m\n\u001b[32m   1465\u001b[39m \u001b[38;5;28;01mif\u001b[39;00m blk.is_object:\n\u001b[32m   1466\u001b[39m     \u001b[38;5;66;03m# split on object-dtype blocks bc some columns may raise\u001b[39;00m\n\u001b[32m   1467\u001b[39m     \u001b[38;5;66;03m#  while others do not.\u001b[39;00m\n\u001b[32m   1468\u001b[39m     \u001b[38;5;28;01mfor\u001b[39;00m sb \u001b[38;5;129;01min\u001b[39;00m blk._split():\n\u001b[32m-> \u001b[39m\u001b[32m1469\u001b[39m         applied = \u001b[43msb\u001b[49m\u001b[43m.\u001b[49m\u001b[43mapply\u001b[49m\u001b[43m(\u001b[49m\u001b[43mfunc\u001b[49m\u001b[43m)\u001b[49m\n\u001b[32m   1470\u001b[39m         result_blocks = extend_blocks(applied, result_blocks)\n\u001b[32m   1471\u001b[39m \u001b[38;5;28;01melse\u001b[39;00m:\n",
      "\u001b[36mFile \u001b[39m\u001b[32m~\\AppData\\Roaming\\Python\\Python313\\site-packages\\pandas\\core\\internals\\blocks.py:393\u001b[39m, in \u001b[36mBlock.apply\u001b[39m\u001b[34m(self, func, **kwargs)\u001b[39m\n\u001b[32m    387\u001b[39m \u001b[38;5;129m@final\u001b[39m\n\u001b[32m    388\u001b[39m \u001b[38;5;28;01mdef\u001b[39;00m\u001b[38;5;250m \u001b[39m\u001b[34mapply\u001b[39m(\u001b[38;5;28mself\u001b[39m, func, **kwargs) -> \u001b[38;5;28mlist\u001b[39m[Block]:\n\u001b[32m    389\u001b[39m \u001b[38;5;250m    \u001b[39m\u001b[33;03m\"\"\"\u001b[39;00m\n\u001b[32m    390\u001b[39m \u001b[33;03m    apply the function to my values; return a block if we are not\u001b[39;00m\n\u001b[32m    391\u001b[39m \u001b[33;03m    one\u001b[39;00m\n\u001b[32m    392\u001b[39m \u001b[33;03m    \"\"\"\u001b[39;00m\n\u001b[32m--> \u001b[39m\u001b[32m393\u001b[39m     result = \u001b[43mfunc\u001b[49m\u001b[43m(\u001b[49m\u001b[38;5;28;43mself\u001b[39;49m\u001b[43m.\u001b[49m\u001b[43mvalues\u001b[49m\u001b[43m,\u001b[49m\u001b[43m \u001b[49m\u001b[43m*\u001b[49m\u001b[43m*\u001b[49m\u001b[43mkwargs\u001b[49m\u001b[43m)\u001b[49m\n\u001b[32m    395\u001b[39m     result = maybe_coerce_values(result)\n\u001b[32m    396\u001b[39m     \u001b[38;5;28;01mreturn\u001b[39;00m \u001b[38;5;28mself\u001b[39m._split_op_result(result)\n",
      "\u001b[36mFile \u001b[39m\u001b[32m~\\AppData\\Roaming\\Python\\Python313\\site-packages\\pandas\\core\\groupby\\groupby.py:1995\u001b[39m, in \u001b[36mGroupBy._cython_agg_general.<locals>.array_func\u001b[39m\u001b[34m(values)\u001b[39m\n\u001b[32m   1992\u001b[39m     \u001b[38;5;28;01mreturn\u001b[39;00m result\n\u001b[32m   1994\u001b[39m \u001b[38;5;28;01massert\u001b[39;00m alt \u001b[38;5;129;01mis\u001b[39;00m \u001b[38;5;129;01mnot\u001b[39;00m \u001b[38;5;28;01mNone\u001b[39;00m\n\u001b[32m-> \u001b[39m\u001b[32m1995\u001b[39m result = \u001b[38;5;28;43mself\u001b[39;49m\u001b[43m.\u001b[49m\u001b[43m_agg_py_fallback\u001b[49m\u001b[43m(\u001b[49m\u001b[43mhow\u001b[49m\u001b[43m,\u001b[49m\u001b[43m \u001b[49m\u001b[43mvalues\u001b[49m\u001b[43m,\u001b[49m\u001b[43m \u001b[49m\u001b[43mndim\u001b[49m\u001b[43m=\u001b[49m\u001b[43mdata\u001b[49m\u001b[43m.\u001b[49m\u001b[43mndim\u001b[49m\u001b[43m,\u001b[49m\u001b[43m \u001b[49m\u001b[43malt\u001b[49m\u001b[43m=\u001b[49m\u001b[43malt\u001b[49m\u001b[43m)\u001b[49m\n\u001b[32m   1996\u001b[39m \u001b[38;5;28;01mreturn\u001b[39;00m result\n",
      "\u001b[36mFile \u001b[39m\u001b[32m~\\AppData\\Roaming\\Python\\Python313\\site-packages\\pandas\\core\\groupby\\groupby.py:1946\u001b[39m, in \u001b[36mGroupBy._agg_py_fallback\u001b[39m\u001b[34m(self, how, values, ndim, alt)\u001b[39m\n\u001b[32m   1944\u001b[39m     msg = \u001b[33mf\u001b[39m\u001b[33m\"\u001b[39m\u001b[33magg function failed [how->\u001b[39m\u001b[38;5;132;01m{\u001b[39;00mhow\u001b[38;5;132;01m}\u001b[39;00m\u001b[33m,dtype->\u001b[39m\u001b[38;5;132;01m{\u001b[39;00mser.dtype\u001b[38;5;132;01m}\u001b[39;00m\u001b[33m]\u001b[39m\u001b[33m\"\u001b[39m\n\u001b[32m   1945\u001b[39m     \u001b[38;5;66;03m# preserve the kind of exception that raised\u001b[39;00m\n\u001b[32m-> \u001b[39m\u001b[32m1946\u001b[39m     \u001b[38;5;28;01mraise\u001b[39;00m \u001b[38;5;28mtype\u001b[39m(err)(msg) \u001b[38;5;28;01mfrom\u001b[39;00m\u001b[38;5;250m \u001b[39m\u001b[34;01merr\u001b[39;00m\n\u001b[32m   1948\u001b[39m \u001b[38;5;28;01mif\u001b[39;00m ser.dtype == \u001b[38;5;28mobject\u001b[39m:\n\u001b[32m   1949\u001b[39m     res_values = res_values.astype(\u001b[38;5;28mobject\u001b[39m, copy=\u001b[38;5;28;01mFalse\u001b[39;00m)\n",
      "\u001b[31mTypeError\u001b[39m: agg function failed [how->mean,dtype->object]"
     ]
    }
   ],
   "source": [
    "# Summary statistics for numerical columns\n",
    "print(\"Summary Statistics:\\n\", df.describe())\n",
    "\n",
    "# If we want to group by 'Country Name' and calculate the mean inflation rates for each country over all years:\n",
    "country_inflation_mean = df.groupby('country_name').mean()\n",
    "\n",
    "print(\"Average Inflation by Country:\\n\", country_inflation_mean.head())\n",
    "\n",
    "# Extracting inflation rates for a specific year (e.g., 2020)\n",
    "inflation_2020 = df[['country_name', 'country_code', '2020']].dropna()\n",
    "\n",
    "print(\"Inflation Data for 2020:\\n\", inflation_2020.head())\n"
   ]
  },
  {
   "cell_type": "code",
   "execution_count": 24,
   "id": "3f257f9d-8851-4639-a692-fcd46e36136b",
   "metadata": {},
   "outputs": [
    {
     "name": "stdout",
     "output_type": "stream",
     "text": [
      "Average Inflation by Country:\n",
      "                                  1960      1961      1962      1963      1964  \\\n",
      "country_name                                                                    \n",
      "Afghanistan                  1.945749  2.102977  2.669962  2.898982  3.328408   \n",
      "Africa Eastern and Southern  1.945749  2.102977  2.669962  2.898982  3.328408   \n",
      "Africa Western and Central   1.945749  2.102977  2.669962  2.898982  3.328408   \n",
      "Albania                      1.945749  2.102977  2.669962  2.898982  3.328408   \n",
      "Algeria                      1.945749  2.102977  2.669962  2.898982  3.328408   \n",
      "\n",
      "                                 1965      1966      1967      1968      1969  \\\n",
      "country_name                                                                    \n",
      "Afghanistan                  3.410026  3.815659  3.016948  3.005366  3.367003   \n",
      "Africa Eastern and Southern  3.410026  3.815659  3.016948  3.005366  3.367003   \n",
      "Africa Western and Central   3.410026  3.815659  3.016948  3.005366  3.367003   \n",
      "Albania                      3.410026  3.815659  3.016948  3.005366  3.367003   \n",
      "Algeria                      3.410026  3.815659  3.016948  3.005366  3.367003   \n",
      "\n",
      "                             ...      2014      2015      2016      2017  \\\n",
      "country_name                 ...                                           \n",
      "Afghanistan                  ...  4.673996 -0.661709  4.383892  4.975952   \n",
      "Africa Eastern and Southern  ...  5.370290  5.245878  6.571396  6.399343   \n",
      "Africa Western and Central   ...  1.768436  2.130817  1.487416  1.725486   \n",
      "Albania                      ...  1.625865  1.896174  1.275432  1.986661   \n",
      "Algeria                      ...  2.916927  4.784447  6.397695  5.591116   \n",
      "\n",
      "                                 2018      2019      2020      2021  \\\n",
      "country_name                                                          \n",
      "Afghanistan                  0.626149  2.302373  1.938631  3.672226   \n",
      "Africa Eastern and Southern  4.720805  4.653665  5.405162  7.240978   \n",
      "Africa Western and Central   1.784050  1.983092  2.490378  3.745700   \n",
      "Albania                      2.028060  1.411091  1.620887  2.041472   \n",
      "Algeria                      4.269990  1.951768  2.415131  7.226063   \n",
      "\n",
      "                                  2022      2023  \n",
      "country_name                                      \n",
      "Afghanistan                   7.967574  5.869104  \n",
      "Africa Eastern and Southern  10.773751  7.126975  \n",
      "Africa Western and Central    7.949251  4.953050  \n",
      "Albania                       6.725203  4.759764  \n",
      "Algeria                       9.265516  9.322174  \n",
      "\n",
      "[5 rows x 64 columns]\n"
     ]
    }
   ],
   "source": [
    "# Select only numeric columns\n",
    "numeric_cols = df.select_dtypes(include=['number'])\n",
    "\n",
    "# Group by 'country_name' and calculate the mean for each year\n",
    "country_inflation_mean = df.groupby('country_name')[numeric_cols.columns].mean()\n",
    "\n",
    "print(\"Average Inflation by Country:\\n\", country_inflation_mean.head())\n"
   ]
  },
  {
   "cell_type": "code",
   "execution_count": 25,
   "id": "499bcc9a-72d7-4c92-a19a-3c7c33b069d1",
   "metadata": {},
   "outputs": [
    {
     "name": "stdout",
     "output_type": "stream",
     "text": [
      "                  Country Name Country Code  \\\n",
      "0                        Aruba          ABW   \n",
      "1  Africa Eastern and Southern          AFE   \n",
      "2                  Afghanistan          AFG   \n",
      "3   Africa Western and Central          AFW   \n",
      "4                       Angola          AGO   \n",
      "\n",
      "                               Indicator Name  Indicator Code  1960  1961  \\\n",
      "0  GDP deflator (base year varies by country)  NY.GDP.DEFL.ZS   NaN   NaN   \n",
      "1  GDP deflator (base year varies by country)  NY.GDP.DEFL.ZS   NaN   NaN   \n",
      "2  GDP deflator (base year varies by country)  NY.GDP.DEFL.ZS   NaN   NaN   \n",
      "3  GDP deflator (base year varies by country)  NY.GDP.DEFL.ZS   NaN   NaN   \n",
      "4  GDP deflator (base year varies by country)  NY.GDP.DEFL.ZS   NaN   NaN   \n",
      "\n",
      "   1962  1963  1964  1965  ...        2014        2015         2016  \\\n",
      "0   NaN   NaN   NaN   NaN  ...  103.958897  111.060628   109.946912   \n",
      "1   NaN   NaN   NaN   NaN  ...         NaN         NaN          NaN   \n",
      "2   NaN   NaN   NaN   NaN  ...   92.566839   94.832470    92.748502   \n",
      "3   NaN   NaN   NaN   NaN  ...         NaN         NaN          NaN   \n",
      "4   NaN   NaN   NaN   NaN  ...  890.354809  859.028696  1046.075628   \n",
      "\n",
      "          2017         2018         2019         2020         2021  \\\n",
      "0   106.452616   110.138037   116.765942   115.654945   109.973252   \n",
      "1          NaN          NaN          NaN          NaN          NaN   \n",
      "2    94.977857    96.945179   103.267440   110.457896   113.593791   \n",
      "3          NaN          NaN          NaN          NaN          NaN   \n",
      "4  1282.640547  1643.923107  1959.342696  2170.228813  3012.792411   \n",
      "\n",
      "          2022         2023  \n",
      "0   113.445414   121.056990  \n",
      "1          NaN          NaN  \n",
      "2   124.278695   127.959400  \n",
      "3          NaN          NaN  \n",
      "4  3425.864147  4029.485573  \n",
      "\n",
      "[5 rows x 68 columns]\n"
     ]
    }
   ],
   "source": [
    "\n",
    "defl = pd.read_csv('data/deflation.csv')\n",
    "print(defl.head())"
   ]
  },
  {
   "cell_type": "code",
   "execution_count": 26,
   "id": "a92a8adb-59fe-4ba0-a2b9-1a2233dda3b2",
   "metadata": {},
   "outputs": [
    {
     "ename": "KeyError",
     "evalue": "\"The following id_vars or value_vars are not present in the DataFrame: ['country_name']\"",
     "output_type": "error",
     "traceback": [
      "\u001b[31m---------------------------------------------------------------------------\u001b[39m",
      "\u001b[31mKeyError\u001b[39m                                  Traceback (most recent call last)",
      "\u001b[36mCell\u001b[39m\u001b[36m \u001b[39m\u001b[32mIn[26]\u001b[39m\u001b[32m, line 11\u001b[39m\n\u001b[32m      8\u001b[39m defl_clean = defl.drop(columns=[\u001b[33m'\u001b[39m\u001b[33mCountry Code\u001b[39m\u001b[33m'\u001b[39m, \u001b[33m'\u001b[39m\u001b[33mIndicator Name\u001b[39m\u001b[33m'\u001b[39m, \u001b[33m'\u001b[39m\u001b[33mIndicator Code\u001b[39m\u001b[33m'\u001b[39m])\n\u001b[32m     10\u001b[39m \u001b[38;5;66;03m# Melt inflation dataframe (index is already 'country_name')\u001b[39;00m\n\u001b[32m---> \u001b[39m\u001b[32m11\u001b[39m infl_melted = \u001b[43minfl\u001b[49m\u001b[43m.\u001b[49m\u001b[43mreset_index\u001b[49m\u001b[43m(\u001b[49m\u001b[43m)\u001b[49m\u001b[43m.\u001b[49m\u001b[43mmelt\u001b[49m\u001b[43m(\u001b[49m\u001b[43mid_vars\u001b[49m\u001b[43m=\u001b[49m\u001b[33;43m'\u001b[39;49m\u001b[33;43mcountry_name\u001b[39;49m\u001b[33;43m'\u001b[39;49m\u001b[43m,\u001b[49m\u001b[43m \u001b[49m\u001b[43mvar_name\u001b[49m\u001b[43m=\u001b[49m\u001b[33;43m'\u001b[39;49m\u001b[33;43mYear\u001b[39;49m\u001b[33;43m'\u001b[39;49m\u001b[43m,\u001b[49m\u001b[43m \u001b[49m\u001b[43mvalue_name\u001b[49m\u001b[43m=\u001b[49m\u001b[33;43m'\u001b[39;49m\u001b[33;43mInflation\u001b[39;49m\u001b[33;43m'\u001b[39;49m\u001b[43m)\u001b[49m\n\u001b[32m     13\u001b[39m \u001b[38;5;66;03m# Melt deflator dataframe\u001b[39;00m\n\u001b[32m     14\u001b[39m defl_melted = defl_clean.melt(id_vars=\u001b[33m'\u001b[39m\u001b[33mCountry Name\u001b[39m\u001b[33m'\u001b[39m, var_name=\u001b[33m'\u001b[39m\u001b[33mYear\u001b[39m\u001b[33m'\u001b[39m, value_name=\u001b[33m'\u001b[39m\u001b[33mGDP_Deflator\u001b[39m\u001b[33m'\u001b[39m)\n",
      "\u001b[36mFile \u001b[39m\u001b[32m~\\AppData\\Roaming\\Python\\Python313\\site-packages\\pandas\\core\\frame.py:9942\u001b[39m, in \u001b[36mDataFrame.melt\u001b[39m\u001b[34m(self, id_vars, value_vars, var_name, value_name, col_level, ignore_index)\u001b[39m\n\u001b[32m   9932\u001b[39m \u001b[38;5;129m@Appender\u001b[39m(_shared_docs[\u001b[33m\"\u001b[39m\u001b[33mmelt\u001b[39m\u001b[33m\"\u001b[39m] % {\u001b[33m\"\u001b[39m\u001b[33mcaller\u001b[39m\u001b[33m\"\u001b[39m: \u001b[33m\"\u001b[39m\u001b[33mdf.melt(\u001b[39m\u001b[33m\"\u001b[39m, \u001b[33m\"\u001b[39m\u001b[33mother\u001b[39m\u001b[33m\"\u001b[39m: \u001b[33m\"\u001b[39m\u001b[33mmelt\u001b[39m\u001b[33m\"\u001b[39m})\n\u001b[32m   9933\u001b[39m \u001b[38;5;28;01mdef\u001b[39;00m\u001b[38;5;250m \u001b[39m\u001b[34mmelt\u001b[39m(\n\u001b[32m   9934\u001b[39m     \u001b[38;5;28mself\u001b[39m,\n\u001b[32m   (...)\u001b[39m\u001b[32m   9940\u001b[39m     ignore_index: \u001b[38;5;28mbool\u001b[39m = \u001b[38;5;28;01mTrue\u001b[39;00m,\n\u001b[32m   9941\u001b[39m ) -> DataFrame:\n\u001b[32m-> \u001b[39m\u001b[32m9942\u001b[39m     \u001b[38;5;28;01mreturn\u001b[39;00m \u001b[43mmelt\u001b[49m\u001b[43m(\u001b[49m\n\u001b[32m   9943\u001b[39m \u001b[43m        \u001b[49m\u001b[38;5;28;43mself\u001b[39;49m\u001b[43m,\u001b[49m\n\u001b[32m   9944\u001b[39m \u001b[43m        \u001b[49m\u001b[43mid_vars\u001b[49m\u001b[43m=\u001b[49m\u001b[43mid_vars\u001b[49m\u001b[43m,\u001b[49m\n\u001b[32m   9945\u001b[39m \u001b[43m        \u001b[49m\u001b[43mvalue_vars\u001b[49m\u001b[43m=\u001b[49m\u001b[43mvalue_vars\u001b[49m\u001b[43m,\u001b[49m\n\u001b[32m   9946\u001b[39m \u001b[43m        \u001b[49m\u001b[43mvar_name\u001b[49m\u001b[43m=\u001b[49m\u001b[43mvar_name\u001b[49m\u001b[43m,\u001b[49m\n\u001b[32m   9947\u001b[39m \u001b[43m        \u001b[49m\u001b[43mvalue_name\u001b[49m\u001b[43m=\u001b[49m\u001b[43mvalue_name\u001b[49m\u001b[43m,\u001b[49m\n\u001b[32m   9948\u001b[39m \u001b[43m        \u001b[49m\u001b[43mcol_level\u001b[49m\u001b[43m=\u001b[49m\u001b[43mcol_level\u001b[49m\u001b[43m,\u001b[49m\n\u001b[32m   9949\u001b[39m \u001b[43m        \u001b[49m\u001b[43mignore_index\u001b[49m\u001b[43m=\u001b[49m\u001b[43mignore_index\u001b[49m\u001b[43m,\u001b[49m\n\u001b[32m   9950\u001b[39m \u001b[43m    \u001b[49m\u001b[43m)\u001b[49m.__finalize__(\u001b[38;5;28mself\u001b[39m, method=\u001b[33m\"\u001b[39m\u001b[33mmelt\u001b[39m\u001b[33m\"\u001b[39m)\n",
      "\u001b[36mFile \u001b[39m\u001b[32m~\\AppData\\Roaming\\Python\\Python313\\site-packages\\pandas\\core\\reshape\\melt.py:74\u001b[39m, in \u001b[36mmelt\u001b[39m\u001b[34m(frame, id_vars, value_vars, var_name, value_name, col_level, ignore_index)\u001b[39m\n\u001b[32m     70\u001b[39m \u001b[38;5;28;01mif\u001b[39;00m missing.any():\n\u001b[32m     71\u001b[39m     missing_labels = [\n\u001b[32m     72\u001b[39m         lab \u001b[38;5;28;01mfor\u001b[39;00m lab, not_found \u001b[38;5;129;01min\u001b[39;00m \u001b[38;5;28mzip\u001b[39m(labels, missing) \u001b[38;5;28;01mif\u001b[39;00m not_found\n\u001b[32m     73\u001b[39m     ]\n\u001b[32m---> \u001b[39m\u001b[32m74\u001b[39m     \u001b[38;5;28;01mraise\u001b[39;00m \u001b[38;5;167;01mKeyError\u001b[39;00m(\n\u001b[32m     75\u001b[39m         \u001b[33m\"\u001b[39m\u001b[33mThe following id_vars or value_vars are not present in \u001b[39m\u001b[33m\"\u001b[39m\n\u001b[32m     76\u001b[39m         \u001b[33mf\u001b[39m\u001b[33m\"\u001b[39m\u001b[33mthe DataFrame: \u001b[39m\u001b[38;5;132;01m{\u001b[39;00mmissing_labels\u001b[38;5;132;01m}\u001b[39;00m\u001b[33m\"\u001b[39m\n\u001b[32m     77\u001b[39m     )\n\u001b[32m     78\u001b[39m \u001b[38;5;28;01mif\u001b[39;00m value_vars_was_not_none:\n\u001b[32m     79\u001b[39m     frame = frame.iloc[:, algos.unique(idx)]\n",
      "\u001b[31mKeyError\u001b[39m: \"The following id_vars or value_vars are not present in the DataFrame: ['country_name']\""
     ]
    }
   ],
   "source": [
    "import pandas as pd\n",
    "\n",
    "# Read both datasets\n",
    "infl = pd.read_csv('data/inflation.csv', index_col=0)\n",
    "defl = pd.read_csv('data/deflation.csv')\n",
    "\n",
    "# Drop unnecessary columns from deflator data\n",
    "defl_clean = defl.drop(columns=['Country Code', 'Indicator Name', 'Indicator Code'])\n",
    "\n",
    "# Melt inflation dataframe (index is already 'country_name')\n",
    "infl_melted = infl.reset_index().melt(id_vars='country_name', var_name='Year', value_name='Inflation')\n",
    "\n",
    "# Melt deflator dataframe\n",
    "defl_melted = defl_clean.melt(id_vars='Country Name', var_name='Year', value_name='GDP_Deflator')\n",
    "\n",
    "# Rename for consistency\n",
    "defl_melted = defl_melted.rename(columns={'Country Name': 'country_name'})\n",
    "\n",
    "# Merge both on 'country_name' and 'Year'\n",
    "merged = pd.merge(infl_melted, defl_melted, on=['country_name', 'Year'], how='inner')\n",
    "\n",
    "# Convert year column to int for clarity\n",
    "merged['Year'] = merged['Year'].astype(int)\n",
    "\n",
    "# Preview\n",
    "print(merged.head())\n"
   ]
  },
  {
   "cell_type": "code",
   "execution_count": 27,
   "id": "f8b4b32d-56d2-46c4-8089-be10489bb353",
   "metadata": {},
   "outputs": [
    {
     "name": "stdout",
     "output_type": "stream",
     "text": [
      "Index(['Country Name', 'Country Code', 'Indicator Name', 'Indicator Code',\n",
      "       '1960', '1961', '1962', '1963', '1964', '1965', '1966', '1967', '1968',\n",
      "       '1969', '1970', '1971', '1972', '1973', '1974', '1975', '1976', '1977',\n",
      "       '1978', '1979', '1980', '1981', '1982', '1983', '1984', '1985', '1986',\n",
      "       '1987', '1988', '1989', '1990', '1991', '1992', '1993', '1994', '1995',\n",
      "       '1996', '1997', '1998', '1999', '2000', '2001', '2002', '2003', '2004',\n",
      "       '2005', '2006', '2007', '2008', '2009', '2010', '2011', '2012', '2013',\n",
      "       '2014', '2015', '2016', '2017', '2018', '2019', '2020', '2021', '2022',\n",
      "       '2023'],\n",
      "      dtype='object')\n"
     ]
    }
   ],
   "source": [
    "print(infl.reset_index().columns)\n"
   ]
  },
  {
   "cell_type": "code",
   "execution_count": 28,
   "id": "fe2eee17-e7f1-42f3-8a04-bfcc401c4e31",
   "metadata": {},
   "outputs": [
    {
     "ename": "KeyError",
     "evalue": "\"The following id_vars or value_vars are not present in the DataFrame: ['country_name']\"",
     "output_type": "error",
     "traceback": [
      "\u001b[31m---------------------------------------------------------------------------\u001b[39m",
      "\u001b[31mKeyError\u001b[39m                                  Traceback (most recent call last)",
      "\u001b[36mCell\u001b[39m\u001b[36m \u001b[39m\u001b[32mIn[28]\u001b[39m\u001b[32m, line 9\u001b[39m\n\u001b[32m      6\u001b[39m     infl_reset = infl_reset.rename(columns={\u001b[33m'\u001b[39m\u001b[33mindex\u001b[39m\u001b[33m'\u001b[39m: \u001b[33m'\u001b[39m\u001b[33mcountry_name\u001b[39m\u001b[33m'\u001b[39m})\n\u001b[32m      8\u001b[39m \u001b[38;5;66;03m# Now melt the inflation dataframe\u001b[39;00m\n\u001b[32m----> \u001b[39m\u001b[32m9\u001b[39m infl_melted = \u001b[43minfl_reset\u001b[49m\u001b[43m.\u001b[49m\u001b[43mmelt\u001b[49m\u001b[43m(\u001b[49m\u001b[43mid_vars\u001b[49m\u001b[43m=\u001b[49m\u001b[33;43m'\u001b[39;49m\u001b[33;43mcountry_name\u001b[39;49m\u001b[33;43m'\u001b[39;49m\u001b[43m,\u001b[49m\u001b[43m \u001b[49m\u001b[43mvar_name\u001b[49m\u001b[43m=\u001b[49m\u001b[33;43m'\u001b[39;49m\u001b[33;43mYear\u001b[39;49m\u001b[33;43m'\u001b[39;49m\u001b[43m,\u001b[49m\u001b[43m \u001b[49m\u001b[43mvalue_name\u001b[49m\u001b[43m=\u001b[49m\u001b[33;43m'\u001b[39;49m\u001b[33;43mInflation\u001b[39;49m\u001b[33;43m'\u001b[39;49m\u001b[43m)\u001b[49m\n\u001b[32m     11\u001b[39m \u001b[38;5;66;03m# Clean deflator data\u001b[39;00m\n\u001b[32m     12\u001b[39m defl_clean = defl.drop(columns=[\u001b[33m'\u001b[39m\u001b[33mCountry Code\u001b[39m\u001b[33m'\u001b[39m, \u001b[33m'\u001b[39m\u001b[33mIndicator Name\u001b[39m\u001b[33m'\u001b[39m, \u001b[33m'\u001b[39m\u001b[33mIndicator Code\u001b[39m\u001b[33m'\u001b[39m])\n",
      "\u001b[36mFile \u001b[39m\u001b[32m~\\AppData\\Roaming\\Python\\Python313\\site-packages\\pandas\\core\\frame.py:9942\u001b[39m, in \u001b[36mDataFrame.melt\u001b[39m\u001b[34m(self, id_vars, value_vars, var_name, value_name, col_level, ignore_index)\u001b[39m\n\u001b[32m   9932\u001b[39m \u001b[38;5;129m@Appender\u001b[39m(_shared_docs[\u001b[33m\"\u001b[39m\u001b[33mmelt\u001b[39m\u001b[33m\"\u001b[39m] % {\u001b[33m\"\u001b[39m\u001b[33mcaller\u001b[39m\u001b[33m\"\u001b[39m: \u001b[33m\"\u001b[39m\u001b[33mdf.melt(\u001b[39m\u001b[33m\"\u001b[39m, \u001b[33m\"\u001b[39m\u001b[33mother\u001b[39m\u001b[33m\"\u001b[39m: \u001b[33m\"\u001b[39m\u001b[33mmelt\u001b[39m\u001b[33m\"\u001b[39m})\n\u001b[32m   9933\u001b[39m \u001b[38;5;28;01mdef\u001b[39;00m\u001b[38;5;250m \u001b[39m\u001b[34mmelt\u001b[39m(\n\u001b[32m   9934\u001b[39m     \u001b[38;5;28mself\u001b[39m,\n\u001b[32m   (...)\u001b[39m\u001b[32m   9940\u001b[39m     ignore_index: \u001b[38;5;28mbool\u001b[39m = \u001b[38;5;28;01mTrue\u001b[39;00m,\n\u001b[32m   9941\u001b[39m ) -> DataFrame:\n\u001b[32m-> \u001b[39m\u001b[32m9942\u001b[39m     \u001b[38;5;28;01mreturn\u001b[39;00m \u001b[43mmelt\u001b[49m\u001b[43m(\u001b[49m\n\u001b[32m   9943\u001b[39m \u001b[43m        \u001b[49m\u001b[38;5;28;43mself\u001b[39;49m\u001b[43m,\u001b[49m\n\u001b[32m   9944\u001b[39m \u001b[43m        \u001b[49m\u001b[43mid_vars\u001b[49m\u001b[43m=\u001b[49m\u001b[43mid_vars\u001b[49m\u001b[43m,\u001b[49m\n\u001b[32m   9945\u001b[39m \u001b[43m        \u001b[49m\u001b[43mvalue_vars\u001b[49m\u001b[43m=\u001b[49m\u001b[43mvalue_vars\u001b[49m\u001b[43m,\u001b[49m\n\u001b[32m   9946\u001b[39m \u001b[43m        \u001b[49m\u001b[43mvar_name\u001b[49m\u001b[43m=\u001b[49m\u001b[43mvar_name\u001b[49m\u001b[43m,\u001b[49m\n\u001b[32m   9947\u001b[39m \u001b[43m        \u001b[49m\u001b[43mvalue_name\u001b[49m\u001b[43m=\u001b[49m\u001b[43mvalue_name\u001b[49m\u001b[43m,\u001b[49m\n\u001b[32m   9948\u001b[39m \u001b[43m        \u001b[49m\u001b[43mcol_level\u001b[49m\u001b[43m=\u001b[49m\u001b[43mcol_level\u001b[49m\u001b[43m,\u001b[49m\n\u001b[32m   9949\u001b[39m \u001b[43m        \u001b[49m\u001b[43mignore_index\u001b[49m\u001b[43m=\u001b[49m\u001b[43mignore_index\u001b[49m\u001b[43m,\u001b[49m\n\u001b[32m   9950\u001b[39m \u001b[43m    \u001b[49m\u001b[43m)\u001b[49m.__finalize__(\u001b[38;5;28mself\u001b[39m, method=\u001b[33m\"\u001b[39m\u001b[33mmelt\u001b[39m\u001b[33m\"\u001b[39m)\n",
      "\u001b[36mFile \u001b[39m\u001b[32m~\\AppData\\Roaming\\Python\\Python313\\site-packages\\pandas\\core\\reshape\\melt.py:74\u001b[39m, in \u001b[36mmelt\u001b[39m\u001b[34m(frame, id_vars, value_vars, var_name, value_name, col_level, ignore_index)\u001b[39m\n\u001b[32m     70\u001b[39m \u001b[38;5;28;01mif\u001b[39;00m missing.any():\n\u001b[32m     71\u001b[39m     missing_labels = [\n\u001b[32m     72\u001b[39m         lab \u001b[38;5;28;01mfor\u001b[39;00m lab, not_found \u001b[38;5;129;01min\u001b[39;00m \u001b[38;5;28mzip\u001b[39m(labels, missing) \u001b[38;5;28;01mif\u001b[39;00m not_found\n\u001b[32m     73\u001b[39m     ]\n\u001b[32m---> \u001b[39m\u001b[32m74\u001b[39m     \u001b[38;5;28;01mraise\u001b[39;00m \u001b[38;5;167;01mKeyError\u001b[39;00m(\n\u001b[32m     75\u001b[39m         \u001b[33m\"\u001b[39m\u001b[33mThe following id_vars or value_vars are not present in \u001b[39m\u001b[33m\"\u001b[39m\n\u001b[32m     76\u001b[39m         \u001b[33mf\u001b[39m\u001b[33m\"\u001b[39m\u001b[33mthe DataFrame: \u001b[39m\u001b[38;5;132;01m{\u001b[39;00mmissing_labels\u001b[38;5;132;01m}\u001b[39;00m\u001b[33m\"\u001b[39m\n\u001b[32m     77\u001b[39m     )\n\u001b[32m     78\u001b[39m \u001b[38;5;28;01mif\u001b[39;00m value_vars_was_not_none:\n\u001b[32m     79\u001b[39m     frame = frame.iloc[:, algos.unique(idx)]\n",
      "\u001b[31mKeyError\u001b[39m: \"The following id_vars or value_vars are not present in the DataFrame: ['country_name']\""
     ]
    }
   ],
   "source": [
    "# Reset index and rename the column properly\n",
    "infl_reset = infl.reset_index()\n",
    "\n",
    "# Rename 'index' to 'country_name' if needed\n",
    "if 'index' in infl_reset.columns:\n",
    "    infl_reset = infl_reset.rename(columns={'index': 'country_name'})\n",
    "\n",
    "# Now melt the inflation dataframe\n",
    "infl_melted = infl_reset.melt(id_vars='country_name', var_name='Year', value_name='Inflation')\n",
    "\n",
    "# Clean deflator data\n",
    "defl_clean = defl.drop(columns=['Country Code', 'Indicator Name', 'Indicator Code'])\n",
    "\n",
    "# Melt deflator\n",
    "defl_melted = defl_clean.melt(id_vars='Country Name', var_name='Year', value_name='GDP_Deflator')\n",
    "defl_melted = defl_melted.rename(columns={'Country Name': 'country_name'})\n",
    "\n",
    "# Merge both on country and year\n",
    "merged = pd.merge(infl_melted, defl_melted, on=['country_name', 'Year'], how='inner')\n",
    "\n",
    "# Convert year to integer\n",
    "merged['Year'] = merged['Year'].astype(int)\n",
    "\n",
    "# Preview result\n",
    "print(merged.head())\n"
   ]
  },
  {
   "cell_type": "code",
   "execution_count": 29,
   "id": "dc9ce494-eb61-4883-8d95-bca2c0a4fafd",
   "metadata": {},
   "outputs": [
    {
     "name": "stdout",
     "output_type": "stream",
     "text": [
      "                  country_name  Year Inflation  GDP_Deflator\n",
      "0                        Aruba  1960       NaN           NaN\n",
      "1  Africa Eastern and Southern  1960       NaN           NaN\n",
      "2                  Afghanistan  1960       NaN           NaN\n",
      "3   Africa Western and Central  1960       NaN           NaN\n",
      "4                       Angola  1960       NaN           NaN\n"
     ]
    }
   ],
   "source": [
    "# Reset and rename first column to 'country_name'\n",
    "infl_reset = infl.reset_index()\n",
    "infl_reset.columns.values[0] = 'country_name'\n",
    "\n",
    "# Melt the inflation data\n",
    "infl_melted = infl_reset.melt(id_vars='country_name', var_name='Year', value_name='Inflation')\n",
    "\n",
    "# Clean and melt deflator\n",
    "defl_clean = defl.drop(columns=['Country Code', 'Indicator Name', 'Indicator Code'])\n",
    "defl_melted = defl_clean.melt(id_vars='Country Name', var_name='Year', value_name='GDP_Deflator')\n",
    "defl_melted = defl_melted.rename(columns={'Country Name': 'country_name'})\n",
    "\n",
    "# Merge both datasets\n",
    "merged = pd.merge(infl_melted, defl_melted, on=['country_name', 'Year'], how='inner')\n",
    "merged['Year'] = merged['Year'].astype(int)\n",
    "\n",
    "# Preview\n",
    "print(merged.head())\n"
   ]
  },
  {
   "cell_type": "code",
   "execution_count": 32,
   "id": "7b0f46ad-f59a-4ffe-9661-43b52b15d032",
   "metadata": {},
   "outputs": [
    {
     "name": "stdout",
     "output_type": "stream",
     "text": [
      "                  country_name  Year Inflation  GDP_Deflator\n",
      "0                        Aruba  1960       NaN           NaN\n",
      "1  Africa Eastern and Southern  1960       NaN           NaN\n",
      "2                  Afghanistan  1960       NaN           NaN\n",
      "3   Africa Western and Central  1960       NaN           NaN\n",
      "4                       Angola  1960       NaN           NaN\n"
     ]
    }
   ],
   "source": [
    "print(merged.head())"
   ]
  },
  {
   "cell_type": "code",
   "execution_count": 31,
   "id": "109c4ac3-210e-4559-a96d-09fbc145206f",
   "metadata": {},
   "outputs": [],
   "source": [
    "                  merged_cleaned = merged.dropna(subset=['Inflation', 'GDP_Deflator'], how='any')\n"
   ]
  },
  {
   "cell_type": "code",
   "execution_count": 33,
   "id": "835b12a5-da2e-461a-a9bb-1e8418e520bd",
   "metadata": {},
   "outputs": [],
   "source": [
    "merged_cleaned = merged_cleaned[merged_cleaned['Year'] >= 2000]\n"
   ]
  },
  {
   "cell_type": "code",
   "execution_count": 34,
   "id": "b9d20e06-fb2e-42cb-8861-0cedfe5deeba",
   "metadata": {},
   "outputs": [
    {
     "name": "stdout",
     "output_type": "stream",
     "text": [
      "                  country_name  Year Inflation  GDP_Deflator\n",
      "0                        Aruba  1960       NaN           NaN\n",
      "1  Africa Eastern and Southern  1960       NaN           NaN\n",
      "2                  Afghanistan  1960       NaN           NaN\n",
      "3   Africa Western and Central  1960       NaN           NaN\n",
      "4                       Angola  1960       NaN           NaN\n"
     ]
    }
   ],
   "source": [
    "print(merged.head())"
   ]
  },
  {
   "cell_type": "code",
   "execution_count": null,
   "id": "18cbcb98-16ac-417f-bcc8-e5c803741f7a",
   "metadata": {},
   "outputs": [],
   "source": [
    "notthin"
   ]
  }
 ],
 "metadata": {
  "kernelspec": {
   "display_name": "Python 3 (ipykernel)",
   "language": "python",
   "name": "python3"
  },
  "language_info": {
   "codemirror_mode": {
    "name": "ipython",
    "version": 3
   },
   "file_extension": ".py",
   "mimetype": "text/x-python",
   "name": "python",
   "nbconvert_exporter": "python",
   "pygments_lexer": "ipython3",
   "version": "3.13.1"
  }
 },
 "nbformat": 4,
 "nbformat_minor": 5
}
